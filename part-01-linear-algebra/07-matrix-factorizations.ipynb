{
 "cells": [
  {
   "cell_type": "code",
   "execution_count": 1,
   "id": "c69641bd",
   "metadata": {},
   "outputs": [],
   "source": [
    "import numpy as np"
   ]
  },
  {
   "cell_type": "code",
   "execution_count": 2,
   "id": "c5cffe66",
   "metadata": {},
   "outputs": [],
   "source": [
    "def power_iteration(\n",
    "        A: np.ndarray,\n",
    "        n_max_steps: int = 100000,\n",
    "        convergence_threshold: float = 1e-10,\n",
    "        x_init: np.ndarray = None,\n",
    "        normalize : bool = False\n",
    "):\n",
    "    n, m = A.shape\n",
    "    \n",
    "    if n != m:\n",
    "        raise ValueError(\"the matrix A must be square\")\n",
    "    \n",
    "    if x_init is not None:\n",
    "        x = x_init.reshape(-1, 1)\n",
    "    else:\n",
    "        x = np.random.normal(size=(n,1))\n",
    "\n",
    "    for step in range(n_max_steps):\n",
    "        x_transformed = A @ x\n",
    "        x_new = x_transformed / np.linalg.norm(x_transformed, ord=np.inf)\n",
    "\n",
    "        diff = np.linalg.norm(x - x_new)\n",
    "        x = x_new\n",
    "\n",
    "        if diff < convergence_threshold:\n",
    "            break\n",
    "    \n",
    "    if normalize:\n",
    "        return x / np.linalg.norm(x)\n",
    "    \n",
    "    return x"
   ]
  },
  {
   "cell_type": "code",
   "execution_count": 3,
   "id": "e2eaedde",
   "metadata": {},
   "outputs": [],
   "source": [
    "A = np.array([[2, 1], [1, 2]])\n",
    "u_1 = power_iteration(A, normalize=True)"
   ]
  },
  {
   "cell_type": "code",
   "execution_count": 4,
   "id": "9752c3cc",
   "metadata": {},
   "outputs": [
    {
     "data": {
      "text/plain": [
       "array([[0.70710678],\n",
       "       [0.70710678]])"
      ]
     },
     "execution_count": 4,
     "metadata": {},
     "output_type": "execute_result"
    }
   ],
   "source": [
    "u_1"
   ]
  },
  {
   "cell_type": "code",
   "execution_count": 5,
   "id": "349f9ede",
   "metadata": {},
   "outputs": [
    {
     "data": {
      "text/plain": [
       "array([[3.],\n",
       "       [3.]])"
      ]
     },
     "execution_count": 5,
     "metadata": {},
     "output_type": "execute_result"
    }
   ],
   "source": [
    "A @ u_1 / u_1"
   ]
  },
  {
   "cell_type": "code",
   "execution_count": 7,
   "id": "1544eaac",
   "metadata": {},
   "outputs": [],
   "source": [
    "def get_orthogonal_complement_projection(u: np.ndarray):\n",
    "    \n",
    "    u = u.reshape(-1, 1)\n",
    "    n, _ = u.shape\n",
    "    return np.eye(n) -u @ u.T / np.linalg.norm(u, ord=2)**2"
   ]
  },
  {
   "cell_type": "code",
   "execution_count": 8,
   "id": "7ea4d82a",
   "metadata": {},
   "outputs": [],
   "source": [
    "def find_eigenvectors(A: np.ndarray, x_init: np.ndarray):\n",
    "    \n",
    "    n, _ = A.shape\n",
    "    eigenvectors = []\n",
    "\n",
    "    for _ in range(n):\n",
    "        ev = power_iteration(A, x_init=x_init)\n",
    "        proj = get_orthogonal_complement_projection(ev)\n",
    "        x_init = proj @ x_init\n",
    "        x_init = x_init / np.linalg.norm(x_init, ord = np.inf)\n",
    "        eigenvectors.append(ev)\n",
    "\n",
    "    return eigenvectors"
   ]
  },
  {
   "cell_type": "code",
   "execution_count": 9,
   "id": "3e6bb0af",
   "metadata": {},
   "outputs": [],
   "source": [
    "A = np.array([[2.0, 1.0], [1.0, 2.0]])\n",
    "x_init = np.random.rand(2, 1)"
   ]
  },
  {
   "cell_type": "code",
   "execution_count": 10,
   "id": "9ee350e1",
   "metadata": {},
   "outputs": [
    {
     "data": {
      "text/plain": [
       "[array([[1.],\n",
       "        [1.]]),\n",
       " array([[-1.],\n",
       "        [ 1.]])]"
      ]
     },
     "execution_count": 10,
     "metadata": {},
     "output_type": "execute_result"
    }
   ],
   "source": [
    "find_eigenvectors(A, x_init)"
   ]
  },
  {
   "cell_type": "code",
   "execution_count": 11,
   "id": "cc5c0c9f",
   "metadata": {},
   "outputs": [],
   "source": [
    "def diagonalize_symmetric_matrix(A: np.ndarray, x_init: np.ndarray):\n",
    "    \n",
    "    eigenvectors = find_eigenvectors(A, x_init)\n",
    "    U = np.hstack(eigenvectors) / np.linalg.norm(np.hstack(eigenvectors), axis=0, ord=2)\n",
    "    return U, U @ A @ U.T"
   ]
  },
  {
   "cell_type": "code",
   "execution_count": 12,
   "id": "3a37bb17",
   "metadata": {},
   "outputs": [
    {
     "data": {
      "text/plain": [
       "(array([[ 0.70710678, -0.70710678],\n",
       "        [ 0.70710678,  0.70710678]]),\n",
       " array([[ 1.00000000e+00, -5.89253279e-11],\n",
       "        [-5.89253956e-11,  3.00000000e+00]]))"
      ]
     },
     "execution_count": 12,
     "metadata": {},
     "output_type": "execute_result"
    }
   ],
   "source": [
    "diagonalize_symmetric_matrix(A, x_init)"
   ]
  },
  {
   "cell_type": "code",
   "execution_count": 13,
   "id": "8d34db1c",
   "metadata": {},
   "outputs": [],
   "source": [
    "def projection_coeff(x: np.ndarray, to: np.ndarray):\n",
    "\n",
    "    return np.dot(x, to) / np.dot(to, to)"
   ]
  },
  {
   "cell_type": "code",
   "execution_count": 14,
   "id": "4289e4cb",
   "metadata": {},
   "outputs": [],
   "source": [
    "from typing import List\n",
    "\n",
    "def projection(x: np.ndarray, to: List[np.ndarray], return_coeffs: bool = True):\n",
    "\n",
    "    p_x = np.zeros_like(x)\n",
    "    coeffs = []\n",
    "\n",
    "    for e in to:\n",
    "        coeff = projection_coeff(x, e)\n",
    "        coeffs.append(coeff)\n",
    "        p_x += coeff * e\n",
    "\n",
    "    if return_coeffs:\n",
    "        return p_x, coeffs\n",
    "    else:\n",
    "        return p_x"
   ]
  },
  {
   "cell_type": "code",
   "execution_count": 16,
   "id": "8947f861",
   "metadata": {},
   "outputs": [],
   "source": [
    "def QR(A: np.ndarray):\n",
    "\n",
    "    n, m = A.shape\n",
    "    \n",
    "    A_columns = [A[:, i] for i in range(A.shape[1])]\n",
    "    Q_columns, R_columns = [], []\n",
    "\n",
    "    Q_columns.append(A_columns[0])\n",
    "    R_columns.append([1] + (m-1)*[0])\n",
    "\n",
    "    for i, a in enumerate(A_columns[1:]):\n",
    "        p, coeffs = projection(a, Q_columns, return_coeffs=True)\n",
    "        next_q = a - p\n",
    "        next_r = coeffs + [1] + max(0, m - i - 2)*[0]\n",
    "\n",
    "        Q_columns.append(next_q)\n",
    "        R_columns.append(next_r)\n",
    "\n",
    "    Q, R = np.array(Q_columns).T, np.array(R_columns).T\n",
    "\n",
    "    Q_norms = np.linalg.norm(Q, axis=0)\n",
    "    Q = Q/Q_norms\n",
    "    R = np.diag(Q_norms) @ R\n",
    "    return Q, R"
   ]
  },
  {
   "cell_type": "code",
   "execution_count": 17,
   "id": "b2bc9c61",
   "metadata": {},
   "outputs": [],
   "source": [
    "A = np.random.rand(3, 3)\n",
    "Q, R = QR(A)"
   ]
  },
  {
   "cell_type": "code",
   "execution_count": 19,
   "id": "0f446bbe",
   "metadata": {},
   "outputs": [
    {
     "data": {
      "text/plain": [
       "True"
      ]
     },
     "execution_count": 19,
     "metadata": {},
     "output_type": "execute_result"
    }
   ],
   "source": [
    "np.allclose(A, Q @ R)"
   ]
  },
  {
   "cell_type": "code",
   "execution_count": 18,
   "id": "313994dc",
   "metadata": {},
   "outputs": [
    {
     "data": {
      "text/plain": [
       "True"
      ]
     },
     "execution_count": 18,
     "metadata": {},
     "output_type": "execute_result"
    }
   ],
   "source": [
    "np.allclose(Q.T @ Q, np.eye(3))"
   ]
  },
  {
   "cell_type": "code",
   "execution_count": 20,
   "id": "3efd00d7",
   "metadata": {},
   "outputs": [
    {
     "data": {
      "text/plain": [
       "True"
      ]
     },
     "execution_count": 20,
     "metadata": {},
     "output_type": "execute_result"
    }
   ],
   "source": [
    "np.allclose(R, np.triu(R))"
   ]
  },
  {
   "cell_type": "code",
   "execution_count": 21,
   "id": "a1f1b505",
   "metadata": {},
   "outputs": [],
   "source": [
    "def QR_algorithm(A: np.ndarray, n_iter: int = 1000):\n",
    "\n",
    "    for _ in range(n_iter):\n",
    "        Q, R = QR(A)\n",
    "        A = R @ Q\n",
    "\n",
    "    return A"
   ]
  },
  {
   "cell_type": "code",
   "execution_count": 22,
   "id": "c08bdacb",
   "metadata": {},
   "outputs": [
    {
     "data": {
      "text/plain": [
       "array([[3.00000000e+00, 2.39107046e-16],\n",
       "       [0.00000000e+00, 1.00000000e+00]])"
      ]
     },
     "execution_count": 22,
     "metadata": {},
     "output_type": "execute_result"
    }
   ],
   "source": [
    "\n",
    "A = np.array([[2.0, 1.0], [1.0, 2.0]])\n",
    "QR_algorithm(A)"
   ]
  },
  {
   "cell_type": "code",
   "execution_count": 23,
   "id": "c579bb7a",
   "metadata": {},
   "outputs": [
    {
     "data": {
      "text/plain": [
       "array([[0., 1.],\n",
       "       [1., 0.]])"
      ]
     },
     "execution_count": 23,
     "metadata": {},
     "output_type": "execute_result"
    }
   ],
   "source": [
    "A = np.array([[0.0, 1.0], [1.0, 0.0]])\n",
    "QR_algorithm(A)"
   ]
  },
  {
   "cell_type": "code",
   "execution_count": null,
   "id": "7995c3d3",
   "metadata": {},
   "outputs": [],
   "source": []
  }
 ],
 "metadata": {
  "kernelspec": {
   "display_name": ".venv",
   "language": "python",
   "name": "python3"
  },
  "language_info": {
   "codemirror_mode": {
    "name": "ipython",
    "version": 3
   },
   "file_extension": ".py",
   "mimetype": "text/x-python",
   "name": "python",
   "nbconvert_exporter": "python",
   "pygments_lexer": "ipython3",
   "version": "3.12.1"
  }
 },
 "nbformat": 4,
 "nbformat_minor": 5
}
