{
 "cells": [
  {
   "cell_type": "code",
   "execution_count": 1,
   "id": "27b8fbdb",
   "metadata": {},
   "outputs": [],
   "source": [
    "import warnings\n",
    "warnings.filterwarnings('ignore')"
   ]
  },
  {
   "cell_type": "code",
   "execution_count": 2,
   "id": "70db7897",
   "metadata": {},
   "outputs": [],
   "source": [
    "import numpy as np\n",
    "\n",
    "def elimination_matrix(A: np.ndarray, step: int):\n",
    "    \n",
    "    n = A.shape[0]\n",
    "    elim_mtx = np.eye(n)\n",
    "    elim_mtx_inv = np.eye(n)\n",
    "\n",
    "    if 0 < step < n:\n",
    "        a = A[:, step-1] / A[step-1, step-1]\n",
    "        elim_mtx[step:, step-1] = -a[step:]\n",
    "        elim_mtx_inv[step:, step-1] = a[step:]\n",
    "    \n",
    "    return elim_mtx, elim_mtx_inv"
   ]
  },
  {
   "cell_type": "code",
   "execution_count": 3,
   "id": "641892ff",
   "metadata": {},
   "outputs": [],
   "source": [
    "def LU(A: np.ndarray):\n",
    "\n",
    "    n = A.shape[0]\n",
    "    L = np.eye(n)\n",
    "    U = np.copy(A)\n",
    "\n",
    "    for step in range(1, n):\n",
    "        elim_mtx, elim_mtx_inv = elimination_matrix(U, step=step)\n",
    "        U = np.matmul(elim_mtx, U)\n",
    "        L = np.matmul(L, elim_mtx_inv)\n",
    "\n",
    "    return L, U"
   ]
  },
  {
   "cell_type": "code",
   "execution_count": 4,
   "id": "2848a1f0",
   "metadata": {},
   "outputs": [
    {
     "data": {
      "text/plain": [
       "array([[ 0.63255196,  4.85279357, -0.31936795,  2.56680738],\n",
       "       [-3.61963577,  1.14684117,  2.82953888,  4.84590546],\n",
       "       [-1.19068101, -0.86831605, -4.17400032, -3.66430562],\n",
       "       [-3.89863578,  3.53805829, -4.49538968, -1.00887098]])"
      ]
     },
     "execution_count": 4,
     "metadata": {},
     "output_type": "execute_result"
    }
   ],
   "source": [
    "A = 10 * np.random.rand(4, 4) - 5\n",
    "A"
   ]
  },
  {
   "cell_type": "code",
   "execution_count": 5,
   "id": "36db147d",
   "metadata": {},
   "outputs": [
    {
     "name": "stdout",
     "output_type": "stream",
     "text": [
      "Lower: \n",
      "[[ 1.          0.          0.          0.        ]\n",
      " [-5.72227424  1.          0.          0.        ]\n",
      " [-1.882345    0.28587483  1.          0.        ]\n",
      " [-6.16334474  1.15671821  1.50600699  1.        ]]\n",
      "\n",
      "Upper:\n",
      "[[ 6.32551957e-01  4.85279357e+00 -3.19367950e-01  2.56680738e+00]\n",
      " [ 0.00000000e+00  2.89158568e+01  1.00202789e+00  1.95338812e+01]\n",
      " [ 0.00000000e+00  0.00000000e+00 -5.06161553e+00 -4.41693356e+00]\n",
      " [ 0.00000000e+00  0.00000000e+00 -8.88178420e-16 -1.13201545e+00]]\n"
     ]
    }
   ],
   "source": [
    "L, U = LU(A)\n",
    "\n",
    "print(f\"Lower: \\n{L}\\n\\nUpper:\\n{U}\")"
   ]
  },
  {
   "cell_type": "code",
   "execution_count": 6,
   "id": "46871f52",
   "metadata": {},
   "outputs": [
    {
     "data": {
      "text/plain": [
       "True"
      ]
     },
     "execution_count": 6,
     "metadata": {},
     "output_type": "execute_result"
    }
   ],
   "source": [
    "np.allclose(np.matmul(L, U), A)"
   ]
  },
  {
   "cell_type": "code",
   "execution_count": 11,
   "id": "e609fd2e",
   "metadata": {},
   "outputs": [],
   "source": [
    "def invert_lower_triangular_matrix(L: np.ndarray):\n",
    "\n",
    "    n = L.shape[0]\n",
    "    G = np.eye(n)\n",
    "    D = np.copy(L)\n",
    "\n",
    "    for step in range(1, n):\n",
    "        elim_mtx, _ = elimination_matrix(D, step=step)\n",
    "        G = np.matmul(elim_mtx, G)\n",
    "        D = np.matmul(elim_mtx, D)\n",
    "\n",
    "    D_inv = np.eye(n) / np.diagonal(D)\n",
    "\n",
    "    return np.matmul(D_inv, G)"
   ]
  },
  {
   "cell_type": "code",
   "execution_count": 12,
   "id": "80db42b7",
   "metadata": {},
   "outputs": [],
   "source": [
    "def invert(A: np.ndarray):\n",
    "    \n",
    "    L, U = LU(A)\n",
    "    L_inv = invert_lower_triangular_matrix(L)\n",
    "    U_inv = invert_lower_triangular_matrix(U.T).T\n",
    "\n",
    "    return np.matmul(U_inv, L_inv)\n"
   ]
  },
  {
   "cell_type": "code",
   "execution_count": 13,
   "id": "c1e3b4af",
   "metadata": {},
   "outputs": [
    {
     "name": "stdout",
     "output_type": "stream",
     "text": [
      "A:\n",
      "[[0.99598321 0.9018686  0.09594627]\n",
      " [0.9807353  0.2664219  0.26306197]\n",
      " [0.74674113 0.80602621 0.1934162 ]]\n",
      "\n",
      "A⁻¹:\n",
      "[[ 1.65441318  1.00087412 -2.18196142]\n",
      " [-0.06956683 -1.24713736  1.73071897]\n",
      " [-6.09745031  1.33303997  6.38186194]]\n",
      "\n",
      "AA⁻¹:\n",
      "[[ 1.00000000e+00  9.38769659e-17 -5.82419239e-17]\n",
      " [-2.33374635e-16  1.00000000e+00  3.29754113e-16]\n",
      " [-1.86560999e-17  2.36264448e-17  1.00000000e+00]]\n"
     ]
    }
   ],
   "source": [
    "A = np.random.rand(3, 3)\n",
    "A_inv = invert(A)\n",
    "\n",
    "print(f\"A:\\n{A}\\n\\nA⁻¹:\\n{A_inv}\\n\\nAA⁻¹:\\n{np.matmul(A, A_inv)}\")"
   ]
  },
  {
   "cell_type": "code",
   "execution_count": 14,
   "id": "3e81e09e",
   "metadata": {},
   "outputs": [],
   "source": [
    "for _ in range(1000):\n",
    "    n = np.random.randint(1, 10)\n",
    "    A = np.random.rand(n, n)\n",
    "    A_inv = invert(A)\n",
    "    if not np.allclose(np.matmul(A, A_inv), np.eye(n), atol=1e-5):\n",
    "        print(\"Test failed.\")"
   ]
  },
  {
   "cell_type": "code",
   "execution_count": 15,
   "id": "090c35bc",
   "metadata": {},
   "outputs": [
    {
     "name": "stdout",
     "output_type": "stream",
     "text": [
      "A:\n",
      "[[0.60906127 0.46898225 0.60823081]\n",
      " [0.66858205 0.02672382 0.70405557]\n",
      " [0.76564027 0.80417909 0.63000603]]\n",
      "\n",
      "NumPy's A⁻¹:\n",
      "[[-15.58256266   5.49338566   8.90490831]\n",
      " [  3.34265451  -2.32521949  -0.62859989]\n",
      " [ 14.67056529  -3.70800319  -8.43237882]]\n",
      "\n",
      "AA⁻¹:\n",
      "[[ 1.00000000e+00 -1.68795671e-16  3.54932360e-16]\n",
      " [ 5.66618363e-16  1.00000000e+00  1.15919087e-15]\n",
      " [ 8.78580914e-16  6.66039086e-17  1.00000000e+00]]\n"
     ]
    }
   ],
   "source": [
    "\n",
    "A = np.random.rand(3, 3)\n",
    "A_inv = np.linalg.inv(A)\n",
    "\n",
    "print(f\"A:\\n{A}\\n\\nNumPy's A⁻¹:\\n{A_inv}\\n\\nAA⁻¹:\\n{np.matmul(A, A_inv)}\")"
   ]
  },
  {
   "cell_type": "code",
   "execution_count": 16,
   "id": "f5554ec2",
   "metadata": {},
   "outputs": [
    {
     "name": "stdout",
     "output_type": "stream",
     "text": [
      "Our invert:              \t4.54282830003649 s\n",
      "NumPy's invert:          \t0.4907903999555856 s\n",
      "Performance improvement: \t9.256147431668582 times faster\n"
     ]
    }
   ],
   "source": [
    "from timeit import timeit\n",
    "\n",
    "\n",
    "n_runs = 100\n",
    "size = 100\n",
    "A = np.random.rand(size, size)\n",
    "\n",
    "t_inv = timeit(lambda: invert(A), number=n_runs)\n",
    "t_np_inv = timeit(lambda: np.linalg.inv(A), number=n_runs)\n",
    "\n",
    "\n",
    "print(f\"Our invert:              \\t{t_inv} s\")\n",
    "print(f\"NumPy's invert:          \\t{t_np_inv} s\")\n",
    "print(f\"Performance improvement: \\t{t_inv/t_np_inv} times faster\")"
   ]
  },
  {
   "cell_type": "code",
   "execution_count": 20,
   "id": "1f7154c3",
   "metadata": {},
   "outputs": [],
   "source": [
    "def det(A: np.ndarray):\n",
    "\n",
    "    n, m = A.shape\n",
    "\n",
    "    if n != m:\n",
    "        raise ValueError(\"A must be a square matrix\")\n",
    "    \n",
    "    if n == 1:\n",
    "        return A[0, 0]\n",
    "    else:\n",
    "        return sum([(-1)**j*A[0, j] * det(np.delete(A[1:], j, axis=1)) for j in range(n)])  "
   ]
  },
  {
   "cell_type": "code",
   "execution_count": 21,
   "id": "df4a5ead",
   "metadata": {},
   "outputs": [],
   "source": [
    "A = np.array([[1, 2],\n",
    "              [3, 4]\n",
    "])"
   ]
  },
  {
   "cell_type": "code",
   "execution_count": 22,
   "id": "885969c2",
   "metadata": {},
   "outputs": [
    {
     "data": {
      "text/plain": [
       "np.int64(-2)"
      ]
     },
     "execution_count": 22,
     "metadata": {},
     "output_type": "execute_result"
    }
   ],
   "source": [
    "det(A)"
   ]
  },
  {
   "cell_type": "code",
   "execution_count": 23,
   "id": "893320ec",
   "metadata": {},
   "outputs": [
    {
     "name": "stdout",
     "output_type": "stream",
     "text": [
      "The time it takes to compute the determinant of a 10 x 10 matrix: 49.92864189995453 seconds\n"
     ]
    }
   ],
   "source": [
    "from timeit import timeit\n",
    "\n",
    "A = np.random.rand(10, 10)\n",
    "t_det = timeit(lambda: det(A), number=1)\n",
    "\n",
    "print(f\"The time it takes to compute the determinant of a 10 x 10 matrix: {t_det} seconds\")"
   ]
  },
  {
   "cell_type": "code",
   "execution_count": 24,
   "id": "17aa8c03",
   "metadata": {},
   "outputs": [],
   "source": [
    "def fast_det(A: np.ndarray):\n",
    "    L, U = LU(A)\n",
    "    return np.prod(np.diag(U))"
   ]
  },
  {
   "cell_type": "code",
   "execution_count": 25,
   "id": "a6c02442",
   "metadata": {},
   "outputs": [
    {
     "name": "stdout",
     "output_type": "stream",
     "text": [
      "The time it takes to compute the determinant of a 10 x 10 matrix: 0.00020820018835365772 seconds\n"
     ]
    }
   ],
   "source": [
    "A = np.random.rand(10, 10)\n",
    "\n",
    "\n",
    "t_fast_det = timeit(lambda : fast_det(A), number=1)\n",
    "print(f\"The time it takes to compute the determinant of a 10 x 10 matrix: {t_fast_det} seconds\")"
   ]
  },
  {
   "cell_type": "code",
   "execution_count": 26,
   "id": "1efea227",
   "metadata": {},
   "outputs": [
    {
     "name": "stdout",
     "output_type": "stream",
     "text": [
      "Recursive determinant:   \t49.92864189995453 s\n",
      "LU determinant:          \t0.00020820018835365772 s\n",
      "Performance improvement: \t239810.74318311186 times faster\n"
     ]
    }
   ],
   "source": [
    "print(f\"Recursive determinant:   \\t{t_det} s\")\n",
    "print(f\"LU determinant:          \\t{t_fast_det} s\")\n",
    "print(f\"Performance improvement: \\t{t_det/t_fast_det} times faster\")"
   ]
  },
  {
   "cell_type": "code",
   "execution_count": 27,
   "id": "b301c62d",
   "metadata": {},
   "outputs": [],
   "source": [
    "from copy import deepcopy\n",
    "\n",
    "\n",
    "def permutations(n: int):\n",
    "    if n == 0:\n",
    "        return [[0]]\n",
    "    else:\n",
    "        prev_permutations = permutations(n - 1)\n",
    "        \n",
    "        new_permutations = []\n",
    "        \n",
    "        for p in prev_permutations:\n",
    "            for i in range(len(p)+1):\n",
    "                p_new = deepcopy(p)\n",
    "                p_new.insert(i, n)\n",
    "                new_permutations.append(p_new)\n",
    "                \n",
    "        return new_permutations"
   ]
  },
  {
   "cell_type": "code",
   "execution_count": 28,
   "id": "109302b5",
   "metadata": {},
   "outputs": [],
   "source": [
    "from itertools import product\n",
    "\n",
    "\n",
    "def inversion(permutation: list):\n",
    "    n = len(permutation)\n",
    "    inversions = sum([1 for i, j in product(range(n), range(n)) if i < j and permutation[i] > permutation[j]])\n",
    "    return inversions"
   ]
  },
  {
   "cell_type": "code",
   "execution_count": 29,
   "id": "6cdd1f57",
   "metadata": {},
   "outputs": [],
   "source": [
    "def sign(permutation: list):\n",
    "    i = inversion(permutation)\n",
    "    return (-1)**i"
   ]
  },
  {
   "cell_type": "code",
   "execution_count": 30,
   "id": "7e03fe30",
   "metadata": {},
   "outputs": [],
   "source": [
    "def permutation_formula(A: np.ndarray):\n",
    "    n, _ = A.shape\n",
    "    S_n = permutations(n-1)\n",
    "    determinant = sum([sign(p)*np.prod([A[p[i], i] for i in range(n)]) for p in S_n])\n",
    "    return determinant"
   ]
  },
  {
   "cell_type": "code",
   "execution_count": null,
   "id": "bc3eade5",
   "metadata": {},
   "outputs": [],
   "source": []
  }
 ],
 "metadata": {
  "kernelspec": {
   "display_name": ".venv",
   "language": "python",
   "name": "python3"
  },
  "language_info": {
   "codemirror_mode": {
    "name": "ipython",
    "version": 3
   },
   "file_extension": ".py",
   "mimetype": "text/x-python",
   "name": "python",
   "nbconvert_exporter": "python",
   "pygments_lexer": "ipython3",
   "version": "3.12.1"
  }
 },
 "nbformat": 4,
 "nbformat_minor": 5
}
