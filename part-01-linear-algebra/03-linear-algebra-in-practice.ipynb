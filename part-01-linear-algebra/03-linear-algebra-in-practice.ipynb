{
 "cells": [
  {
   "cell_type": "code",
   "execution_count": 1,
   "id": "ba2defce",
   "metadata": {},
   "outputs": [],
   "source": [
    "import numpy as np\n",
    "\n",
    "x = np.array([1.8, -4.5, 9.2, 7.3])\n",
    "y = np.array([-5.2, -1.1, 0.7, 5.1])"
   ]
  },
  {
   "cell_type": "code",
   "execution_count": 2,
   "id": "500ed3a7",
   "metadata": {},
   "outputs": [],
   "source": [
    "def add(x: np.ndarray, y: np.ndarray):\n",
    "    x_plus_y = np.zeros(shape=len(x))\n",
    "\n",
    "    for i in range(len(x_plus_y)):\n",
    "        x_plus_y[i] = x[i] + y[i]\n",
    "\n",
    "    return x_plus_y"
   ]
  },
  {
   "cell_type": "code",
   "execution_count": 3,
   "id": "d7a3115a",
   "metadata": {},
   "outputs": [
    {
     "data": {
      "text/plain": [
       "array([-3.4, -5.6,  9.9, 12.4])"
      ]
     },
     "execution_count": 3,
     "metadata": {},
     "output_type": "execute_result"
    }
   ],
   "source": [
    "add(x, y)"
   ]
  },
  {
   "cell_type": "code",
   "execution_count": 4,
   "id": "865ac33b",
   "metadata": {},
   "outputs": [
    {
     "data": {
      "text/plain": [
       "array([ True,  True,  True,  True])"
      ]
     },
     "execution_count": 4,
     "metadata": {},
     "output_type": "execute_result"
    }
   ],
   "source": [
    "np.equal(x + y, add(x, y))"
   ]
  },
  {
   "cell_type": "code",
   "execution_count": 5,
   "id": "f6e3738b",
   "metadata": {},
   "outputs": [
    {
     "data": {
      "text/plain": [
       "False"
      ]
     },
     "execution_count": 5,
     "metadata": {},
     "output_type": "execute_result"
    }
   ],
   "source": [
    "1.0 == 0.3*3 + 0.1"
   ]
  },
  {
   "cell_type": "code",
   "execution_count": 6,
   "id": "061c2593",
   "metadata": {},
   "outputs": [
    {
     "data": {
      "text/plain": [
       "0.9999999999999999"
      ]
     },
     "execution_count": 6,
     "metadata": {},
     "output_type": "execute_result"
    }
   ],
   "source": [
    "0.3*3 + 0.1"
   ]
  },
  {
   "cell_type": "code",
   "execution_count": 7,
   "id": "9437861c",
   "metadata": {},
   "outputs": [
    {
     "data": {
      "text/plain": [
       "True"
      ]
     },
     "execution_count": 7,
     "metadata": {},
     "output_type": "execute_result"
    }
   ],
   "source": [
    "all(np.equal(x + y, add(x, y)))"
   ]
  },
  {
   "cell_type": "code",
   "execution_count": 8,
   "id": "8d96af42",
   "metadata": {},
   "outputs": [],
   "source": [
    "def just_a_quadratic_polynomial(x):\n",
    "    return 3*x**2 + 1"
   ]
  },
  {
   "cell_type": "code",
   "execution_count": 9,
   "id": "08f11de4",
   "metadata": {},
   "outputs": [
    {
     "data": {
      "text/plain": [
       "array([ 10.72,  61.75, 254.92, 160.87])"
      ]
     },
     "execution_count": 9,
     "metadata": {},
     "output_type": "execute_result"
    }
   ],
   "source": [
    "x = np.array([1.8, -4.5, 9.2, 7.3])\n",
    "just_a_quadratic_polynomial(x)"
   ]
  },
  {
   "cell_type": "code",
   "execution_count": 10,
   "id": "ee7529bc",
   "metadata": {},
   "outputs": [
    {
     "ename": "TypeError",
     "evalue": "only length-1 arrays can be converted to Python scalars",
     "output_type": "error",
     "traceback": [
      "\u001b[31m---------------------------------------------------------------------------\u001b[39m",
      "\u001b[31mTypeError\u001b[39m                                 Traceback (most recent call last)",
      "\u001b[36mCell\u001b[39m\u001b[36m \u001b[39m\u001b[32mIn[10]\u001b[39m\u001b[32m, line 3\u001b[39m\n\u001b[32m      1\u001b[39m \u001b[38;5;28;01mfrom\u001b[39;00m\u001b[38;5;250m \u001b[39m\u001b[34;01mmath\u001b[39;00m\u001b[38;5;250m \u001b[39m\u001b[38;5;28;01mimport\u001b[39;00m exp\n\u001b[32m----> \u001b[39m\u001b[32m3\u001b[39m \u001b[43mexp\u001b[49m\u001b[43m(\u001b[49m\u001b[43mx\u001b[49m\u001b[43m)\u001b[49m\n",
      "\u001b[31mTypeError\u001b[39m: only length-1 arrays can be converted to Python scalars"
     ]
    }
   ],
   "source": [
    "from math import exp\n",
    "\n",
    "exp(x)"
   ]
  },
  {
   "cell_type": "code",
   "execution_count": 13,
   "id": "07212892",
   "metadata": {},
   "outputs": [],
   "source": [
    "def naive_exp(x: np.ndarray):\n",
    "    x_exp = np.empty_like(x)\n",
    "\n",
    "    for i in range(len(x)):\n",
    "        x_exp[i] = exp(x[i])\n",
    "\n",
    "    return x_exp"
   ]
  },
  {
   "cell_type": "code",
   "execution_count": 14,
   "id": "4c81587f",
   "metadata": {},
   "outputs": [
    {
     "data": {
      "text/plain": [
       "array([6.04964746e+00, 1.11089965e-02, 9.89712906e+03, 1.48029993e+03])"
      ]
     },
     "execution_count": 14,
     "metadata": {},
     "output_type": "execute_result"
    }
   ],
   "source": [
    "naive_exp(x)"
   ]
  },
  {
   "cell_type": "code",
   "execution_count": 16,
   "id": "6b93e298",
   "metadata": {},
   "outputs": [],
   "source": [
    "def bit_less_naive_exp(x: np.ndarray):\n",
    "    return np.array([exp(x_i) for  x_i in x])"
   ]
  },
  {
   "cell_type": "code",
   "execution_count": 17,
   "id": "68892bd4",
   "metadata": {},
   "outputs": [
    {
     "data": {
      "text/plain": [
       "array([6.04964746e+00, 1.11089965e-02, 9.89712906e+03, 1.48029993e+03])"
      ]
     },
     "execution_count": 17,
     "metadata": {},
     "output_type": "execute_result"
    }
   ],
   "source": [
    "bit_less_naive_exp(x)"
   ]
  },
  {
   "cell_type": "code",
   "execution_count": 18,
   "id": "756308ab",
   "metadata": {},
   "outputs": [
    {
     "data": {
      "text/plain": [
       "True"
      ]
     },
     "execution_count": 18,
     "metadata": {},
     "output_type": "execute_result"
    }
   ],
   "source": [
    "all(np.equal(naive_exp(x), np.exp(x)))"
   ]
  },
  {
   "cell_type": "code",
   "execution_count": 19,
   "id": "8f5c0b0f",
   "metadata": {},
   "outputs": [
    {
     "data": {
      "text/plain": [
       "True"
      ]
     },
     "execution_count": 19,
     "metadata": {},
     "output_type": "execute_result"
    }
   ],
   "source": [
    "all(np.equal(bit_less_naive_exp(x), np.exp(x)))"
   ]
  },
  {
   "cell_type": "code",
   "execution_count": 20,
   "id": "3fd4dbcd",
   "metadata": {},
   "outputs": [
    {
     "name": "stdout",
     "output_type": "stream",
     "text": [
      "Built-in exponential:    \t9.14064 s\n",
      "NumPy exponential:       \t0.36054 s\n",
      "Performance improvement: \t25.35282 times faster\n"
     ]
    }
   ],
   "source": [
    "from timeit import timeit\n",
    "\n",
    "n_runs = 100000\n",
    "size = 1000\n",
    "\n",
    "t_naive_exp = timeit(\n",
    "    \"np.array([exp(x_i) for x_i in x])\",\n",
    "    setup=f\"import numpy as np; from math import exp; x = np.ones({size})\",\n",
    "    number = n_runs\n",
    ")\n",
    "\n",
    "t_numpy_exp = timeit(\n",
    "    \"np.exp(x)\",\n",
    "    setup=f\"import numpy as np; from math import exp; x = np.ones({size})\",\n",
    "    number=n_runs\n",
    ")\n",
    "\n",
    "print(f\"Built-in exponential:    \\t{t_naive_exp:.5f} s\")\n",
    "print(f\"NumPy exponential:       \\t{t_numpy_exp:.5f} s\")\n",
    "print(f\"Performance improvement: \\t{t_naive_exp/t_numpy_exp:.5f} times faster\")"
   ]
  },
  {
   "cell_type": "code",
   "execution_count": 21,
   "id": "3168ea65",
   "metadata": {},
   "outputs": [],
   "source": [
    "def naive_sum(x: np.ndarray):\n",
    "    val = 0\n",
    "\n",
    "    for x_i in x:\n",
    "        val += x_i\n",
    "\n",
    "    return val"
   ]
  },
  {
   "cell_type": "code",
   "execution_count": 22,
   "id": "1e6d57f3",
   "metadata": {},
   "outputs": [
    {
     "data": {
      "text/plain": [
       "np.float64(13.799999999999999)"
      ]
     },
     "execution_count": 22,
     "metadata": {},
     "output_type": "execute_result"
    }
   ],
   "source": [
    "naive_sum(x)"
   ]
  },
  {
   "cell_type": "code",
   "execution_count": 23,
   "id": "b07b7959",
   "metadata": {},
   "outputs": [
    {
     "data": {
      "text/plain": [
       "np.float64(13.799999999999999)"
      ]
     },
     "execution_count": 23,
     "metadata": {},
     "output_type": "execute_result"
    }
   ],
   "source": [
    "sum(x)"
   ]
  },
  {
   "cell_type": "code",
   "execution_count": 24,
   "id": "6585d2fa",
   "metadata": {},
   "outputs": [
    {
     "data": {
      "text/plain": [
       "np.float64(13.799999999999999)"
      ]
     },
     "execution_count": 24,
     "metadata": {},
     "output_type": "execute_result"
    }
   ],
   "source": [
    "np.sum(x)"
   ]
  },
  {
   "cell_type": "code",
   "execution_count": 25,
   "id": "d1b46123",
   "metadata": {},
   "outputs": [
    {
     "data": {
      "text/plain": [
       "np.float64(13.799999999999999)"
      ]
     },
     "execution_count": 25,
     "metadata": {},
     "output_type": "execute_result"
    }
   ],
   "source": [
    "x.sum()"
   ]
  },
  {
   "cell_type": "code",
   "execution_count": 26,
   "id": "df43b424",
   "metadata": {},
   "outputs": [
    {
     "name": "stdout",
     "output_type": "stream",
     "text": [
      "Built-in sum:            \t5.25367 s\n",
      "NumPy sum:               \t0.19594 s\n",
      "Performance improvement: \t26.81235 times faster\n"
     ]
    }
   ],
   "source": [
    "\n",
    "t_naive_sum = timeit(\n",
    "    \"sum(x)\",\n",
    "    setup=f\"import numpy as np; x = np.ones({size})\",\n",
    "    number=n_runs\n",
    ")\n",
    "\n",
    "t_numpy_sum = timeit(\n",
    "    \"np.sum(x)\",\n",
    "    setup=f\"import numpy as np; x = np.ones({size})\",\n",
    "    number=n_runs\n",
    ")\n",
    "\n",
    "\n",
    "print(f\"Built-in sum:            \\t{t_naive_sum:.5f} s\")\n",
    "print(f\"NumPy sum:               \\t{t_numpy_sum:.5f} s\")\n",
    "print(f\"Performance improvement: \\t{t_naive_sum/t_numpy_sum:.5f} times faster\")"
   ]
  },
  {
   "cell_type": "code",
   "execution_count": 27,
   "id": "58ada0f4",
   "metadata": {},
   "outputs": [
    {
     "data": {
      "text/plain": [
       "np.float64(-543.996)"
      ]
     },
     "execution_count": 27,
     "metadata": {},
     "output_type": "execute_result"
    }
   ],
   "source": [
    "np.prod(x)"
   ]
  },
  {
   "cell_type": "code",
   "execution_count": 28,
   "id": "20d07dc0",
   "metadata": {},
   "outputs": [],
   "source": [
    "def euclidean_norm(x: np.ndarray):\n",
    "    return np.sqrt(np.sum(x**2))"
   ]
  },
  {
   "cell_type": "code",
   "execution_count": 30,
   "id": "6849e6a2",
   "metadata": {},
   "outputs": [],
   "source": [
    "x = np.array([-3.0, 1.2, 1.2, 2.1])\n",
    "y = np.array([8.1, 6.3])"
   ]
  },
  {
   "cell_type": "code",
   "execution_count": 31,
   "id": "00988b96",
   "metadata": {},
   "outputs": [
    {
     "data": {
      "text/plain": [
       "np.float64(4.036087214122113)"
      ]
     },
     "execution_count": 31,
     "metadata": {},
     "output_type": "execute_result"
    }
   ],
   "source": [
    "euclidean_norm(x)"
   ]
  },
  {
   "cell_type": "code",
   "execution_count": 32,
   "id": "57b90f69",
   "metadata": {},
   "outputs": [
    {
     "data": {
      "text/plain": [
       "np.float64(10.261578825892242)"
      ]
     },
     "execution_count": 32,
     "metadata": {},
     "output_type": "execute_result"
    }
   ],
   "source": [
    "euclidean_norm(y)"
   ]
  },
  {
   "cell_type": "code",
   "execution_count": 33,
   "id": "1f34fe21",
   "metadata": {},
   "outputs": [
    {
     "data": {
      "text/plain": [
       "np.float64(4.036087214122113)"
      ]
     },
     "execution_count": 33,
     "metadata": {},
     "output_type": "execute_result"
    }
   ],
   "source": [
    "np.linalg.norm(x)"
   ]
  },
  {
   "cell_type": "code",
   "execution_count": 34,
   "id": "240f402e",
   "metadata": {},
   "outputs": [
    {
     "data": {
      "text/plain": [
       "np.True_"
      ]
     },
     "execution_count": 34,
     "metadata": {},
     "output_type": "execute_result"
    }
   ],
   "source": [
    "np.equal(euclidean_norm(x), np.linalg.norm(x))"
   ]
  },
  {
   "cell_type": "code",
   "execution_count": 35,
   "id": "61864ac8",
   "metadata": {},
   "outputs": [
    {
     "data": {
      "text/plain": [
       "float"
      ]
     },
     "execution_count": 35,
     "metadata": {},
     "output_type": "execute_result"
    }
   ],
   "source": [
    "type(np.inf)"
   ]
  },
  {
   "cell_type": "code",
   "execution_count": 36,
   "id": "cb799c08",
   "metadata": {},
   "outputs": [],
   "source": [
    "def p_norm(x: np.ndarray, p: float):\n",
    "    if np.isinf(p):\n",
    "        return np.max(np.abs(x))\n",
    "    elif p >= 1:\n",
    "        return (np.sum(np.abs(x)**p))**(1/p)\n",
    "    else:\n",
    "        raise ValueError(\"p must be a float larger or equal than 1.0 or inf.\")"
   ]
  },
  {
   "cell_type": "code",
   "execution_count": 37,
   "id": "8d48ab4e",
   "metadata": {},
   "outputs": [
    {
     "name": "stdout",
     "output_type": "stream",
     "text": [
      "p-norm for p = 1: \t 7.50000\n",
      "p-norm for p = 2: \t 4.03609\n",
      "p-norm for p = 42: \t 3.00000\n",
      "p-norm for p = inf: \t 3.00000\n"
     ]
    }
   ],
   "source": [
    "x = np.array([-3.0, 1.2, 1.2, 2.1])\n",
    "\n",
    "for p in [1, 2, 42, np.inf]:\n",
    "    print(f\"p-norm for p = {p}: \\t {p_norm(x, p=p):.5f}\")"
   ]
  },
  {
   "cell_type": "code",
   "execution_count": 38,
   "id": "8f1901b9",
   "metadata": {},
   "outputs": [],
   "source": [
    "def euclidean_distance(x: np.ndarray, y: np.ndarray):\n",
    "    return np.linalg.norm(x - y, ord=2)"
   ]
  },
  {
   "cell_type": "code",
   "execution_count": 39,
   "id": "59483db3",
   "metadata": {},
   "outputs": [],
   "source": [
    "def dot_product(x: np.ndarray, y: np.ndarray):\n",
    "    return np.sum(x*y)"
   ]
  },
  {
   "cell_type": "code",
   "execution_count": 40,
   "id": "f91421db",
   "metadata": {},
   "outputs": [
    {
     "data": {
      "text/plain": [
       "np.float64(4.5)"
      ]
     },
     "execution_count": 40,
     "metadata": {},
     "output_type": "execute_result"
    }
   ],
   "source": [
    "x = np.array([-3.0, 1.2, 1.2, 2.1])\n",
    "y = np.array([1.9, 2.5, 3.9, 1.2])\n",
    "\n",
    "dot_product(x, y)"
   ]
  },
  {
   "cell_type": "code",
   "execution_count": 41,
   "id": "6b1092e5",
   "metadata": {},
   "outputs": [
    {
     "ename": "ValueError",
     "evalue": "operands could not be broadcast together with shapes (4,) (2,) ",
     "output_type": "error",
     "traceback": [
      "\u001b[31m---------------------------------------------------------------------------\u001b[39m",
      "\u001b[31mValueError\u001b[39m                                Traceback (most recent call last)",
      "\u001b[36mCell\u001b[39m\u001b[36m \u001b[39m\u001b[32mIn[41]\u001b[39m\u001b[32m, line 4\u001b[39m\n\u001b[32m      1\u001b[39m x = np.array([-\u001b[32m3.0\u001b[39m, \u001b[32m1.2\u001b[39m, \u001b[32m1.2\u001b[39m, \u001b[32m2.1\u001b[39m])\n\u001b[32m      2\u001b[39m y = np.array([\u001b[32m1.9\u001b[39m, \u001b[32m2.5\u001b[39m])\n\u001b[32m----> \u001b[39m\u001b[32m4\u001b[39m \u001b[43mdot_product\u001b[49m\u001b[43m(\u001b[49m\u001b[43mx\u001b[49m\u001b[43m,\u001b[49m\u001b[43m \u001b[49m\u001b[43my\u001b[49m\u001b[43m)\u001b[49m\n",
      "\u001b[36mCell\u001b[39m\u001b[36m \u001b[39m\u001b[32mIn[39]\u001b[39m\u001b[32m, line 2\u001b[39m, in \u001b[36mdot_product\u001b[39m\u001b[34m(x, y)\u001b[39m\n\u001b[32m      1\u001b[39m \u001b[38;5;28;01mdef\u001b[39;00m\u001b[38;5;250m \u001b[39m\u001b[34mdot_product\u001b[39m(x: np.ndarray, y: np.ndarray):\n\u001b[32m----> \u001b[39m\u001b[32m2\u001b[39m     \u001b[38;5;28;01mreturn\u001b[39;00m np.sum(\u001b[43mx\u001b[49m\u001b[43m*\u001b[49m\u001b[43my\u001b[49m)\n",
      "\u001b[31mValueError\u001b[39m: operands could not be broadcast together with shapes (4,) (2,) "
     ]
    }
   ],
   "source": [
    "x = np.array([-3.0, 1.2, 1.2, 2.1])\n",
    "y = np.array([1.9, 2.5])\n",
    "\n",
    "dot_product(x, y)"
   ]
  },
  {
   "cell_type": "code",
   "execution_count": 42,
   "id": "2fa9517f",
   "metadata": {},
   "outputs": [
    {
     "data": {
      "text/plain": [
       "np.float64(3.0)"
      ]
     },
     "execution_count": 42,
     "metadata": {},
     "output_type": "execute_result"
    }
   ],
   "source": [
    "x = np.array([-3.0, 1.2, 1.2, 2.1])\n",
    "y = np.array([2.0])\n",
    "\n",
    "dot_product(x, y)"
   ]
  },
  {
   "cell_type": "code",
   "execution_count": 43,
   "id": "49c17f89",
   "metadata": {},
   "outputs": [
    {
     "data": {
      "text/plain": [
       "array([-6. ,  2.4,  2.4,  4.2])"
      ]
     },
     "execution_count": 43,
     "metadata": {},
     "output_type": "execute_result"
    }
   ],
   "source": [
    "x*y"
   ]
  },
  {
   "cell_type": "code",
   "execution_count": 44,
   "id": "5a579be7",
   "metadata": {},
   "outputs": [
    {
     "data": {
      "text/plain": [
       "np.float64(4.5)"
      ]
     },
     "execution_count": 44,
     "metadata": {},
     "output_type": "execute_result"
    }
   ],
   "source": [
    "\n",
    "x = np.array([-3.0, 1.2, 1.2, 2.1])\n",
    "y = np.array([1.9, 2.5, 3.9, 1.2])\n",
    "\n",
    "np.dot(x, y)"
   ]
  },
  {
   "cell_type": "code",
   "execution_count": 45,
   "id": "2d9f67ac",
   "metadata": {},
   "outputs": [
    {
     "ename": "ValueError",
     "evalue": "shapes (4,) and (1,) not aligned: 4 (dim 0) != 1 (dim 0)",
     "output_type": "error",
     "traceback": [
      "\u001b[31m---------------------------------------------------------------------------\u001b[39m",
      "\u001b[31mValueError\u001b[39m                                Traceback (most recent call last)",
      "\u001b[36mCell\u001b[39m\u001b[36m \u001b[39m\u001b[32mIn[45]\u001b[39m\u001b[32m, line 4\u001b[39m\n\u001b[32m      1\u001b[39m x = np.array([-\u001b[32m3.0\u001b[39m, \u001b[32m1.2\u001b[39m, \u001b[32m1.2\u001b[39m, \u001b[32m2.1\u001b[39m])\n\u001b[32m      2\u001b[39m y = np.array([\u001b[32m2.0\u001b[39m])\n\u001b[32m----> \u001b[39m\u001b[32m4\u001b[39m \u001b[43mnp\u001b[49m\u001b[43m.\u001b[49m\u001b[43mdot\u001b[49m\u001b[43m(\u001b[49m\u001b[43mx\u001b[49m\u001b[43m,\u001b[49m\u001b[43m \u001b[49m\u001b[43my\u001b[49m\u001b[43m)\u001b[49m\n",
      "\u001b[31mValueError\u001b[39m: shapes (4,) and (1,) not aligned: 4 (dim 0) != 1 (dim 0)"
     ]
    }
   ],
   "source": [
    "x = np.array([-3.0, 1.2, 1.2, 2.1])\n",
    "y = np.array([2.0])\n",
    "\n",
    "np.dot(x, y)"
   ]
  },
  {
   "cell_type": "code",
   "execution_count": 46,
   "id": "d41b28fb",
   "metadata": {},
   "outputs": [],
   "source": [
    "vectors = [np.random.rand(5) for _ in range(5)]"
   ]
  },
  {
   "cell_type": "code",
   "execution_count": 47,
   "id": "7f36d22d",
   "metadata": {},
   "outputs": [
    {
     "data": {
      "text/plain": [
       "[array([0.72913121, 0.12396844, 0.94126597, 0.29718171, 0.1650396 ]),\n",
       " array([0.13293447, 0.58696312, 0.12893963, 0.91962516, 0.96279327]),\n",
       " array([0.79122408, 0.91033416, 0.200593  , 0.55573626, 0.27487908]),\n",
       " array([0.45355642, 0.45295999, 0.08504295, 0.73818061, 0.67201355]),\n",
       " array([0.72819012, 0.7362454 , 0.13549063, 0.82114007, 0.58319234])]"
      ]
     },
     "execution_count": 47,
     "metadata": {},
     "output_type": "execute_result"
    }
   ],
   "source": [
    "vectors"
   ]
  },
  {
   "cell_type": "code",
   "execution_count": 48,
   "id": "50183b59",
   "metadata": {},
   "outputs": [],
   "source": [
    "from typing import List\n",
    "\n",
    "def projection(x: np.ndarray, to: List[np.ndarray]):\n",
    "    \n",
    "    p_x = np.zeros_like(x)\n",
    "\n",
    "    for e in to:\n",
    "        e_norm_square = np.dot(e, e)\n",
    "        p_x += np.dot(x, e)*e/e_norm_square\n",
    "    \n",
    "    return p_x"
   ]
  },
  {
   "cell_type": "code",
   "execution_count": 49,
   "id": "0e2471de",
   "metadata": {},
   "outputs": [],
   "source": [
    "x = np.array([1.0, 2.0])\n",
    "e = np.array([2.0, 1.0])\n",
    "\n",
    "x_to_e = projection(x, to=[e])"
   ]
  },
  {
   "cell_type": "code",
   "execution_count": 51,
   "id": "8da0a6c7",
   "metadata": {},
   "outputs": [
    {
     "data": {
      "image/png": "[encoded data removed]",
      "text/plain": [
       "<Figure size 700x700 with 1 Axes>"
      ]
     },
     "metadata": {},
     "output_type": "display_data"
    }
   ],
   "source": [
    "import matplotlib.pyplot as plt\n",
    "\n",
    "with plt.style.context(\"seaborn-v0_8\"):\n",
    "    plt.figure(figsize=(7,7))\n",
    "    plt.xlim([-0, 3])\n",
    "    plt.ylim([-0, 3])\n",
    "    plt.arrow(0, 0, x[0], x[1], head_width=0.1, color=\"r\", label=\"x\", linewidth=2)\n",
    "    plt.arrow(0, 0, e[0], e[1], head_width=0.1, color=\"g\", label=\"e\", linewidth=2)\n",
    "    plt.arrow(x_to_e[0], x_to_e[1], x[0] - x_to_e[0], x[1] - x_to_e[1], linestyle=\"--\")\n",
    "    plt.arrow(0, 0, x_to_e[0], x_to_e[1], head_width=0.1, color=\"b\", label=\"projection(x, to=[e])\")\n",
    "    plt.legend()\n",
    "    plt.show()"
   ]
  },
  {
   "cell_type": "code",
   "execution_count": 52,
   "id": "c3dd2833",
   "metadata": {},
   "outputs": [
    {
     "data": {
      "text/plain": [
       "True"
      ]
     },
     "execution_count": 52,
     "metadata": {},
     "output_type": "execute_result"
    }
   ],
   "source": [
    "np.allclose(np.dot(e, x - x_to_e), 0.0)"
   ]
  },
  {
   "cell_type": "code",
   "execution_count": 59,
   "id": "9fc76996",
   "metadata": {},
   "outputs": [],
   "source": [
    "def gram_schmidt(vectors: List[np.ndarray]):\n",
    "\n",
    "    output = []\n",
    "    output.append(vectors[0])\n",
    "    for v in vectors[1:]:\n",
    "        v_proj = projection(v, to=output)\n",
    "        output.append(v - v_proj)\n",
    "\n",
    "    output = [v/np.linalg.norm(v, ord=2) for v in output]\n",
    "\n",
    "    return output"
   ]
  },
  {
   "cell_type": "code",
   "execution_count": 60,
   "id": "edd39bd5",
   "metadata": {},
   "outputs": [
    {
     "data": {
      "text/plain": [
       "[array([0.81649658, 0.40824829, 0.40824829]),\n",
       " array([-0.49236596,  0.86164044,  0.12309149]),\n",
       " array([-0.30151134, -0.30151134,  0.90453403])]"
      ]
     },
     "execution_count": 60,
     "metadata": {},
     "output_type": "execute_result"
    }
   ],
   "source": [
    "gram_schmidt([np.array([2.0, 1.0, 1.0]), \n",
    "              np.array([1.0, 2.0, 1.0]),\n",
    "              np.array([1.0, 1.0, 2.0])])"
   ]
  },
  {
   "cell_type": "code",
   "execution_count": 61,
   "id": "26f3f44e",
   "metadata": {},
   "outputs": [],
   "source": [
    "\n",
    "test_vectors = [np.array([1.0, 0.0, 0.0]), \n",
    "                np.array([1.0, 1.0, 0.0]),\n",
    "                np.array([1.0, 1.0, 1.0])]"
   ]
  },
  {
   "cell_type": "code",
   "execution_count": 62,
   "id": "78e2291e",
   "metadata": {},
   "outputs": [
    {
     "data": {
      "text/plain": [
       "[array([1., 0., 0.]), array([0., 1., 0.]), array([0., 0., 1.])]"
      ]
     },
     "execution_count": 62,
     "metadata": {},
     "output_type": "execute_result"
    }
   ],
   "source": [
    "\n",
    "gram_schmidt(test_vectors)"
   ]
  },
  {
   "cell_type": "code",
   "execution_count": 1,
   "id": "2cb946b6",
   "metadata": {},
   "outputs": [],
   "source": [
    "from typing import Tuple\n",
    "\n",
    "class Matrix:\n",
    "    def __init__(self, shape: Tuple[int, int]):\n",
    "        if len(shape) != 2:\n",
    "            raise ValueError(\"The shape of a Matrix object must be a two-dimensional tuple.\")\n",
    "        \n",
    "        self.shape = shape\n",
    "        self.data = [0.0 for _ in range(shape[0]*shape[1])]\n",
    "\n",
    "    def _linear_idx(self, i: int, j: int):\n",
    "        return i*self.shape[1] + j\n",
    "    \n",
    "    def __getitem__(self, key: Tuple[int, int]):\n",
    "        linear_idx = self._linear_idx(*key)\n",
    "        return self.data[linear_idx]\n",
    "    \n",
    "    def __setitem__(self, key: Tuple[int, int], value):\n",
    "        linear_idx = self._linear_idx(*key)\n",
    "        self.data[linear_idx] = value\n",
    "\n",
    "    def __repr__(self):\n",
    "        array_form = [\n",
    "            [self[i, j] for j in range(self.shape[1])]\n",
    "            for i in range(self.shape[0])\n",
    "        ]\n",
    "        return \"\\n\".join([\"\\t\".join([f\"{x}\" for x in row]) for row in array_form])"
   ]
  },
  {
   "cell_type": "code",
   "execution_count": 2,
   "id": "2e8e4913",
   "metadata": {},
   "outputs": [],
   "source": [
    "M = Matrix(shape=(3,4))"
   ]
  },
  {
   "cell_type": "code",
   "execution_count": 3,
   "id": "fed13dc9",
   "metadata": {},
   "outputs": [],
   "source": [
    "M[1, 2] = 3.14"
   ]
  },
  {
   "cell_type": "code",
   "execution_count": 4,
   "id": "2c4eb39d",
   "metadata": {},
   "outputs": [
    {
     "data": {
      "text/plain": [
       "3.14"
      ]
     },
     "execution_count": 4,
     "metadata": {},
     "output_type": "execute_result"
    }
   ],
   "source": [
    "M[1, 2]"
   ]
  },
  {
   "cell_type": "code",
   "execution_count": 5,
   "id": "32d21aed",
   "metadata": {},
   "outputs": [
    {
     "data": {
      "text/plain": [
       "0.0\t0.0\t0.0\t0.0\n",
       "0.0\t0.0\t3.14\t0.0\n",
       "0.0\t0.0\t0.0\t0.0"
      ]
     },
     "execution_count": 5,
     "metadata": {},
     "output_type": "execute_result"
    }
   ],
   "source": [
    "M"
   ]
  },
  {
   "cell_type": "code",
   "execution_count": 6,
   "id": "fdd57bee",
   "metadata": {},
   "outputs": [],
   "source": [
    "import numpy as np\n",
    "\n",
    "A = np.array([[0, 1, 2, 3],\n",
    "              [4, 5, 6, 7],\n",
    "              [8, 9, 10, 11]\n",
    "\n",
    "])\n",
    "\n",
    "B =np.array([[5, 5, 5, 5], \n",
    "             [5, 5, 5, 5],\n",
    "             [5, 5, 5, 5]\n",
    "\n",
    "])"
   ]
  },
  {
   "cell_type": "code",
   "execution_count": 7,
   "id": "1d073b85",
   "metadata": {},
   "outputs": [
    {
     "data": {
      "text/plain": [
       "array([[ 0,  1,  2,  3],\n",
       "       [ 4,  5,  6,  7],\n",
       "       [ 8,  9, 10, 11]])"
      ]
     },
     "execution_count": 7,
     "metadata": {},
     "output_type": "execute_result"
    }
   ],
   "source": [
    "A"
   ]
  },
  {
   "cell_type": "code",
   "execution_count": 8,
   "id": "c0715270",
   "metadata": {},
   "outputs": [
    {
     "data": {
      "text/plain": [
       "array([[ 5,  6,  7,  8],\n",
       "       [ 9, 10, 11, 12],\n",
       "       [13, 14, 15, 16]])"
      ]
     },
     "execution_count": 8,
     "metadata": {},
     "output_type": "execute_result"
    }
   ],
   "source": [
    "A + B"
   ]
  },
  {
   "cell_type": "code",
   "execution_count": 9,
   "id": "40bd5d2d",
   "metadata": {},
   "outputs": [
    {
     "data": {
      "text/plain": [
       "array([[ 0,  5, 10, 15],\n",
       "       [20, 25, 30, 35],\n",
       "       [40, 45, 50, 55]])"
      ]
     },
     "execution_count": 9,
     "metadata": {},
     "output_type": "execute_result"
    }
   ],
   "source": [
    "A * B"
   ]
  },
  {
   "cell_type": "code",
   "execution_count": 10,
   "id": "538e21a6",
   "metadata": {},
   "outputs": [
    {
     "data": {
      "text/plain": [
       "array([[1.00000000e+00, 2.71828183e+00, 7.38905610e+00, 2.00855369e+01],\n",
       "       [5.45981500e+01, 1.48413159e+02, 4.03428793e+02, 1.09663316e+03],\n",
       "       [2.98095799e+03, 8.10308393e+03, 2.20264658e+04, 5.98741417e+04]])"
      ]
     },
     "execution_count": 10,
     "metadata": {},
     "output_type": "execute_result"
    }
   ],
   "source": [
    "np.exp(A)"
   ]
  },
  {
   "cell_type": "code",
   "execution_count": 11,
   "id": "4443259c",
   "metadata": {},
   "outputs": [
    {
     "data": {
      "text/plain": [
       "array([[ 0,  4,  8],\n",
       "       [ 1,  5,  9],\n",
       "       [ 2,  6, 10],\n",
       "       [ 3,  7, 11]])"
      ]
     },
     "execution_count": 11,
     "metadata": {},
     "output_type": "execute_result"
    }
   ],
   "source": [
    "np.transpose(A)"
   ]
  },
  {
   "cell_type": "code",
   "execution_count": 12,
   "id": "c65f3af0",
   "metadata": {},
   "outputs": [
    {
     "data": {
      "text/plain": [
       "array([[ 0,  4,  8],\n",
       "       [ 1,  5,  9],\n",
       "       [ 2,  6, 10],\n",
       "       [ 3,  7, 11]])"
      ]
     },
     "execution_count": 12,
     "metadata": {},
     "output_type": "execute_result"
    }
   ],
   "source": [
    "A.T"
   ]
  },
  {
   "cell_type": "code",
   "execution_count": 13,
   "id": "89ef6a93",
   "metadata": {},
   "outputs": [
    {
     "data": {
      "text/plain": [
       "np.int64(6)"
      ]
     },
     "execution_count": 13,
     "metadata": {},
     "output_type": "execute_result"
    }
   ],
   "source": [
    "A[1, 2]"
   ]
  },
  {
   "cell_type": "code",
   "execution_count": 14,
   "id": "7d42aa00",
   "metadata": {},
   "outputs": [
    {
     "data": {
      "text/plain": [
       "array([ 2,  6, 10])"
      ]
     },
     "execution_count": 14,
     "metadata": {},
     "output_type": "execute_result"
    }
   ],
   "source": [
    "A[:, 2]"
   ]
  },
  {
   "cell_type": "code",
   "execution_count": 15,
   "id": "19aff52d",
   "metadata": {},
   "outputs": [
    {
     "data": {
      "text/plain": [
       "array([4, 5, 6, 7])"
      ]
     },
     "execution_count": 15,
     "metadata": {},
     "output_type": "execute_result"
    }
   ],
   "source": [
    "A[1, :]"
   ]
  },
  {
   "cell_type": "code",
   "execution_count": 16,
   "id": "82ec01bf",
   "metadata": {},
   "outputs": [
    {
     "data": {
      "text/plain": [
       "array([ 9, 10, 11])"
      ]
     },
     "execution_count": 16,
     "metadata": {},
     "output_type": "execute_result"
    }
   ],
   "source": [
    "A[2, 1:4]"
   ]
  },
  {
   "cell_type": "code",
   "execution_count": 17,
   "id": "a4ea29e9",
   "metadata": {},
   "outputs": [
    {
     "data": {
      "text/plain": [
       "array([4, 5, 6, 7])"
      ]
     },
     "execution_count": 17,
     "metadata": {},
     "output_type": "execute_result"
    }
   ],
   "source": [
    "A[1]"
   ]
  },
  {
   "cell_type": "code",
   "execution_count": 18,
   "id": "35ee4803",
   "metadata": {},
   "outputs": [
    {
     "name": "stdout",
     "output_type": "stream",
     "text": [
      "[0 1 2 3]\n",
      "[4 5 6 7]\n",
      "[ 8  9 10 11]\n"
     ]
    }
   ],
   "source": [
    "for row in A:\n",
    "    print(row)"
   ]
  },
  {
   "cell_type": "code",
   "execution_count": 19,
   "id": "0d68cc91",
   "metadata": {},
   "outputs": [
    {
     "data": {
      "text/plain": [
       "array([[0., 0., 0., 0., 0.],\n",
       "       [0., 0., 0., 0., 0.],\n",
       "       [0., 0., 0., 0., 0.],\n",
       "       [0., 0., 0., 0., 0.]])"
      ]
     },
     "execution_count": 19,
     "metadata": {},
     "output_type": "execute_result"
    }
   ],
   "source": [
    "np.zeros(shape=(4,5))"
   ]
  },
  {
   "cell_type": "code",
   "execution_count": 20,
   "id": "e31716f5",
   "metadata": {},
   "outputs": [],
   "source": [
    "A = np.array([[0, 1, 2, 3],\n",
    "              [4, 5, 6, 7],\n",
    "              [8, 9, 10, 11]])"
   ]
  },
  {
   "cell_type": "code",
   "execution_count": 21,
   "id": "c4fa2edf",
   "metadata": {},
   "outputs": [
    {
     "data": {
      "text/plain": [
       "array([[ 0,  1,  2,  3],\n",
       "       [ 4,  5,  6,  7],\n",
       "       [ 8,  9, 10, 11]])"
      ]
     },
     "execution_count": 21,
     "metadata": {},
     "output_type": "execute_result"
    }
   ],
   "source": [
    "A"
   ]
  },
  {
   "cell_type": "code",
   "execution_count": 22,
   "id": "1d2b273f",
   "metadata": {},
   "outputs": [
    {
     "data": {
      "text/plain": [
       "(3, 4)"
      ]
     },
     "execution_count": 22,
     "metadata": {},
     "output_type": "execute_result"
    }
   ],
   "source": [
    "A.shape"
   ]
  },
  {
   "cell_type": "code",
   "execution_count": 23,
   "id": "f4245b5f",
   "metadata": {},
   "outputs": [
    {
     "data": {
      "text/plain": [
       "array([[ 0,  1],\n",
       "       [ 2,  3],\n",
       "       [ 4,  5],\n",
       "       [ 6,  7],\n",
       "       [ 8,  9],\n",
       "       [10, 11]])"
      ]
     },
     "execution_count": 23,
     "metadata": {},
     "output_type": "execute_result"
    }
   ],
   "source": [
    "A.reshape(6,2)"
   ]
  },
  {
   "cell_type": "code",
   "execution_count": 24,
   "id": "307e950e",
   "metadata": {},
   "outputs": [
    {
     "data": {
      "text/plain": [
       "array([[ 0,  1,  2,  3],\n",
       "       [ 4,  5,  6,  7],\n",
       "       [ 8,  9, 10, 11]])"
      ]
     },
     "execution_count": 24,
     "metadata": {},
     "output_type": "execute_result"
    }
   ],
   "source": [
    "A"
   ]
  },
  {
   "cell_type": "code",
   "execution_count": 25,
   "id": "1d00777e",
   "metadata": {},
   "outputs": [
    {
     "data": {
      "text/plain": [
       "array([[ 0,  1],\n",
       "       [ 2,  3],\n",
       "       [ 4,  5],\n",
       "       [ 6,  7],\n",
       "       [ 8,  9],\n",
       "       [10, 11]])"
      ]
     },
     "execution_count": 25,
     "metadata": {},
     "output_type": "execute_result"
    }
   ],
   "source": [
    "A.reshape(-1, 2)"
   ]
  },
  {
   "cell_type": "code",
   "execution_count": 26,
   "id": "15e7940e",
   "metadata": {},
   "outputs": [
    {
     "data": {
      "text/plain": [
       "array([[ 0,  1,  2,  3],\n",
       "       [ 4,  5,  6,  7],\n",
       "       [ 8,  9, 10, 11]])"
      ]
     },
     "execution_count": 26,
     "metadata": {},
     "output_type": "execute_result"
    }
   ],
   "source": [
    "A.reshape(-1, 4)"
   ]
  },
  {
   "cell_type": "code",
   "execution_count": 30,
   "id": "46d9c2d8",
   "metadata": {},
   "outputs": [],
   "source": [
    "from itertools import product\n",
    "\n",
    "def matrix_multiplication(A: np.ndarray, B: np.ndarray):\n",
    "    if A.shape[1] != B.shape[0]:\n",
    "        raise ValueError(\"The number of columns in A must match the number of rows in B.\")\n",
    "    \n",
    "    AB = np.zeros(shape=(A.shape[0], B.shape[1]))\n",
    "\n",
    "    for i, j in product(range(A.shape[0]), range(B.shape[1])):\n",
    "        AB[i, j] = np.sum(A[i, :]*B[:, j])\n",
    "\n",
    "    return AB"
   ]
  },
  {
   "cell_type": "code",
   "execution_count": 31,
   "id": "562badc9",
   "metadata": {},
   "outputs": [],
   "source": [
    "A = np.ones(shape=(4, 6))\n",
    "B = np.ones(shape=(6, 3))"
   ]
  },
  {
   "cell_type": "code",
   "execution_count": 32,
   "id": "92c49c37",
   "metadata": {},
   "outputs": [
    {
     "data": {
      "text/plain": [
       "array([[6., 6., 6.],\n",
       "       [6., 6., 6.],\n",
       "       [6., 6., 6.],\n",
       "       [6., 6., 6.]])"
      ]
     },
     "execution_count": 32,
     "metadata": {},
     "output_type": "execute_result"
    }
   ],
   "source": [
    "matrix_multiplication(A, B)"
   ]
  },
  {
   "cell_type": "code",
   "execution_count": 33,
   "id": "713dfa14",
   "metadata": {},
   "outputs": [
    {
     "data": {
      "text/plain": [
       "array([[6., 6., 6.],\n",
       "       [6., 6., 6.],\n",
       "       [6., 6., 6.],\n",
       "       [6., 6., 6.]])"
      ]
     },
     "execution_count": 33,
     "metadata": {},
     "output_type": "execute_result"
    }
   ],
   "source": [
    "np.matmul(A, B)"
   ]
  },
  {
   "cell_type": "code",
   "execution_count": 34,
   "id": "21184f03",
   "metadata": {},
   "outputs": [
    {
     "name": "stdout",
     "output_type": "stream",
     "text": [
      "All good! Yay!\n"
     ]
    }
   ],
   "source": [
    "for _ in range(100):\n",
    "    n, m, l = np.random.randint(1, 100), np.random.randint(1, 100), np.random.randint(1, 100)\n",
    "    A = np.random.rand(n, m)\n",
    "    B = np.random.rand(m, l)\n",
    "\n",
    "    if not np.allclose(np.matmul(A, B), matrix_multiplication(A, B)):\n",
    "        print(f\"Result mismatch for \\n{A}\\n and\\n{B}\")\n",
    "        break\n",
    "else:\n",
    "    print(\"All good! Yay!\")\n"
   ]
  },
  {
   "cell_type": "code",
   "execution_count": 35,
   "id": "3368707c",
   "metadata": {},
   "outputs": [
    {
     "data": {
      "text/plain": [
       "True"
      ]
     },
     "execution_count": 35,
     "metadata": {},
     "output_type": "execute_result"
    }
   ],
   "source": [
    "A = np.ones(shape=(4, 6))\n",
    "B = np.ones(shape=(6, 3))\n",
    "\n",
    "np.allclose(A @ B, np.matmul(A, B))"
   ]
  },
  {
   "cell_type": "code",
   "execution_count": 36,
   "id": "ef3fc5fd",
   "metadata": {},
   "outputs": [],
   "source": [
    "x1 = np.array([2, 0, 0, 0])\n",
    "x2 = np.array([-1, 1, 0, 0])\n",
    "\n",
    "A = np.array([[0, 1, 2, 3], \n",
    "              [4, 5, 6, 7], \n",
    "              [8, 9, 10, 11]])"
   ]
  },
  {
   "cell_type": "code",
   "execution_count": 37,
   "id": "e1c861da",
   "metadata": {},
   "outputs": [
    {
     "data": {
      "text/plain": [
       "(3, 4)"
      ]
     },
     "execution_count": 37,
     "metadata": {},
     "output_type": "execute_result"
    }
   ],
   "source": [
    "A.shape"
   ]
  },
  {
   "cell_type": "code",
   "execution_count": 38,
   "id": "258ddb62",
   "metadata": {},
   "outputs": [
    {
     "data": {
      "text/plain": [
       "(4,)"
      ]
     },
     "execution_count": 38,
     "metadata": {},
     "output_type": "execute_result"
    }
   ],
   "source": [
    "x1.shape"
   ]
  },
  {
   "cell_type": "code",
   "execution_count": 39,
   "id": "b33ad469",
   "metadata": {},
   "outputs": [
    {
     "data": {
      "text/plain": [
       "array([ 0,  8, 16])"
      ]
     },
     "execution_count": 39,
     "metadata": {},
     "output_type": "execute_result"
    }
   ],
   "source": [
    "np.matmul(A, x1)"
   ]
  },
  {
   "cell_type": "code",
   "execution_count": 40,
   "id": "06f19e49",
   "metadata": {},
   "outputs": [
    {
     "data": {
      "text/plain": [
       "array([ 2,  0,  0,  0, -1,  1,  0,  0])"
      ]
     },
     "execution_count": 40,
     "metadata": {},
     "output_type": "execute_result"
    }
   ],
   "source": [
    "np.hstack([x1, x2])"
   ]
  },
  {
   "cell_type": "code",
   "execution_count": 41,
   "id": "e20627c9",
   "metadata": {},
   "outputs": [],
   "source": [
    "data = np.hstack([x1.reshape(-1, 1), x2.reshape(-1, 1)])"
   ]
  },
  {
   "cell_type": "code",
   "execution_count": 42,
   "id": "25d1aa61",
   "metadata": {},
   "outputs": [
    {
     "data": {
      "text/plain": [
       "array([[ 2, -1],\n",
       "       [ 0,  1],\n",
       "       [ 0,  0],\n",
       "       [ 0,  0]])"
      ]
     },
     "execution_count": 42,
     "metadata": {},
     "output_type": "execute_result"
    }
   ],
   "source": [
    "data"
   ]
  },
  {
   "cell_type": "code",
   "execution_count": 43,
   "id": "79df4369",
   "metadata": {},
   "outputs": [
    {
     "data": {
      "text/plain": [
       "array([[ 0,  1],\n",
       "       [ 8,  1],\n",
       "       [16,  1]])"
      ]
     },
     "execution_count": 43,
     "metadata": {},
     "output_type": "execute_result"
    }
   ],
   "source": [
    "np.matmul(A, data)"
   ]
  },
  {
   "cell_type": "code",
   "execution_count": 44,
   "id": "b2fb982c",
   "metadata": {},
   "outputs": [],
   "source": [
    "def p_norm(x: np.ndarray, p: float):\n",
    "    if p >= 1:\n",
    "        return (np.sum(np.abs(x)**p))**(1/p)\n",
    "    elif np.isinf(p):\n",
    "        return np.max(np.abs(x))\n",
    "    else:\n",
    "        raise ValueError(\"p must be a float larger or equal than 1.0 or inf.\")"
   ]
  },
  {
   "cell_type": "code",
   "execution_count": null,
   "id": "0fb9e744",
   "metadata": {},
   "outputs": [],
   "source": []
  }
 ],
 "metadata": {
  "kernelspec": {
   "display_name": ".venv",
   "language": "python",
   "name": "python3"
  },
  "language_info": {
   "codemirror_mode": {
    "name": "ipython",
    "version": 3
   },
   "file_extension": ".py",
   "mimetype": "text/x-python",
   "name": "python",
   "nbconvert_exporter": "python",
   "pygments_lexer": "ipython3",
   "version": "3.12.1"
  }
 },
 "nbformat": 4,
 "nbformat_minor": 5
}
