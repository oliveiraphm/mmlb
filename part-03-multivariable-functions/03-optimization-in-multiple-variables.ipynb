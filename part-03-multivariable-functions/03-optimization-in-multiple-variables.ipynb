{
 "cells": [
  {
   "cell_type": "code",
   "execution_count": 1,
   "id": "a99f5781",
   "metadata": {},
   "outputs": [],
   "source": [
    "class MultivariableFunction:\n",
    "    def __init__(self):\n",
    "        pass\n",
    "\n",
    "    def __call__(self, *args, **kwargs):\n",
    "        pass\n",
    "\n",
    "    def grad(self):\n",
    "        pass\n",
    "\n",
    "    def parameters(self):\n",
    "        return dict()"
   ]
  },
  {
   "cell_type": "code",
   "execution_count": 2,
   "id": "41414c6d",
   "metadata": {},
   "outputs": [],
   "source": [
    "import numpy as np\n",
    "\n",
    "class SquaredNorm(MultivariableFunction):\n",
    "\n",
    "    def __call__(self, x: np.array):\n",
    "        return np.sum(x**2)\n",
    "    \n",
    "    def grad(self, x: np.array):\n",
    "        return 2*x"
   ]
  },
  {
   "cell_type": "code",
   "execution_count": 3,
   "id": "528861d4",
   "metadata": {},
   "outputs": [],
   "source": [
    "class Linear(MultivariableFunction):\n",
    "\n",
    "    def __init__(self, a: float, b: float):\n",
    "        self.a = a\n",
    "        self.b = b\n",
    "\n",
    "    def __call__(self, x: np.array):\n",
    "        x = x.reshape(2)\n",
    "        return self.a*x[0] + self.b*x[1]\n",
    "    \n",
    "    def grad(self, x: np.array):\n",
    "        return np.array([self.a, self.b]).reshape(2, 1)\n",
    "    \n",
    "    def parameters(self):\n",
    "        return {\"a\": self.a, \"b\": self.b}"
   ]
  },
  {
   "cell_type": "code",
   "execution_count": 4,
   "id": "08704ebb",
   "metadata": {},
   "outputs": [
    {
     "data": {
      "text/plain": [
       "np.int64(1)"
      ]
     },
     "execution_count": 4,
     "metadata": {},
     "output_type": "execute_result"
    }
   ],
   "source": [
    "g = Linear(a=1, b=-1)\n",
    "\n",
    "g(np.array([1, 0]))"
   ]
  },
  {
   "cell_type": "code",
   "execution_count": 5,
   "id": "47cacc65",
   "metadata": {},
   "outputs": [],
   "source": [
    "def gradient_descent(\n",
    "        f: MultivariableFunction,\n",
    "        x_init: np.array,\n",
    "        learning_rate: float = 0.1,\n",
    "        n_iter: int = 1000,\n",
    "):\n",
    "    x = x_init\n",
    "\n",
    "    for n in range(n_iter):\n",
    "        grad = f.grad(x)\n",
    "        x = x - learning_rate * grad\n",
    "\n",
    "    return x"
   ]
  },
  {
   "cell_type": "code",
   "execution_count": 6,
   "id": "1a64693c",
   "metadata": {},
   "outputs": [],
   "source": [
    "squared_norm = SquaredNorm()\n",
    "local_minimum = gradient_descent(\n",
    "    f=squared_norm, \n",
    "    x_init=np.array([10.0, -15.0])\n",
    ")"
   ]
  },
  {
   "cell_type": "code",
   "execution_count": 7,
   "id": "449e9f61",
   "metadata": {},
   "outputs": [
    {
     "data": {
      "text/plain": [
       "array([ 1.23023192e-96, -1.84534788e-96])"
      ]
     },
     "execution_count": 7,
     "metadata": {},
     "output_type": "execute_result"
    }
   ],
   "source": [
    "local_minimum"
   ]
  },
  {
   "cell_type": "code",
   "execution_count": null,
   "id": "3a7aef45",
   "metadata": {},
   "outputs": [],
   "source": []
  }
 ],
 "metadata": {
  "kernelspec": {
   "display_name": ".venv",
   "language": "python",
   "name": "python3"
  },
  "language_info": {
   "codemirror_mode": {
    "name": "ipython",
    "version": 3
   },
   "file_extension": ".py",
   "mimetype": "text/x-python",
   "name": "python",
   "nbconvert_exporter": "python",
   "pygments_lexer": "ipython3",
   "version": "3.12.1"
  }
 },
 "nbformat": 4,
 "nbformat_minor": 5
}
