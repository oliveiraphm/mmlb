{
 "cells": [
  {
   "cell_type": "code",
   "execution_count": 1,
   "id": "6be7823e",
   "metadata": {},
   "outputs": [],
   "source": [
    "import numpy as np\n",
    "\n",
    "def cross_entropy_loss(X, y):\n",
    "\n",
    "    exp_x = np.exp(X)\n",
    "    probs = exp_x / np.sum(exp_x, axis=1, keepdims=True)\n",
    "    log_probs = - np.log([probs[i, y[i]] for i in range(len(probs))])\n",
    "    loss = np.mean(log_probs)\n",
    "\n",
    "    return loss"
   ]
  },
  {
   "cell_type": "code",
   "execution_count": 2,
   "id": "ccbcbb87",
   "metadata": {},
   "outputs": [
    {
     "data": {
      "image/png": "[encoded data removed]",
      "text/plain": [
       "<Figure size 640x480 with 1 Axes>"
      ]
     },
     "metadata": {},
     "output_type": "display_data"
    }
   ],
   "source": [
    "import numpy as np\n",
    "import matplotlib.pyplot as plt\n",
    "\n",
    "x = np.linspace(-10, 10, 400)\n",
    "relu = np.maximum(0, x)\n",
    "\n",
    "with plt.style.context(\"seaborn-v0_8-white\"):\n",
    "    plt.figure()\n",
    "    plt.plot(x, relu, label=\"ReLU(x)\", color=\"blue\")\n",
    "    plt.axhline(0, color='black', linewidth=0.8, linestyle=\"--\")\n",
    "    plt.title(\"ReLu\", fontsize=14)\n",
    "    plt.xlabel(\"x\", fontsize=12)\n",
    "    plt.ylabel(\"ReLu(x)\", fontsize=12)\n",
    "    plt.grid(alpha=0.3)\n",
    "    plt.show()"
   ]
  },
  {
   "cell_type": "code",
   "execution_count": 3,
   "id": "9b1c9773",
   "metadata": {},
   "outputs": [],
   "source": [
    "def square(x):\n",
    "    return x**2"
   ]
  },
  {
   "cell_type": "code",
   "execution_count": 4,
   "id": "8211fbd1",
   "metadata": {},
   "outputs": [
    {
     "data": {
      "text/plain": [
       "function"
      ]
     },
     "execution_count": 4,
     "metadata": {},
     "output_type": "execute_result"
    }
   ],
   "source": [
    "type(square)"
   ]
  },
  {
   "cell_type": "code",
   "execution_count": 5,
   "id": "afbc0638",
   "metadata": {},
   "outputs": [
    {
     "data": {
      "text/plain": [
       "144"
      ]
     },
     "execution_count": 5,
     "metadata": {},
     "output_type": "execute_result"
    }
   ],
   "source": [
    "square(12)"
   ]
  },
  {
   "cell_type": "code",
   "execution_count": 6,
   "id": "ccd460d9",
   "metadata": {},
   "outputs": [],
   "source": [
    "def cube(x):\n",
    "    return x**3"
   ]
  },
  {
   "cell_type": "code",
   "execution_count": 8,
   "id": "80148164",
   "metadata": {},
   "outputs": [
    {
     "data": {
      "text/plain": [
       "12"
      ]
     },
     "execution_count": 8,
     "metadata": {},
     "output_type": "execute_result"
    }
   ],
   "source": [
    "x = 2\n",
    "\n",
    "square(x) + cube(x)"
   ]
  },
  {
   "cell_type": "code",
   "execution_count": 9,
   "id": "bb126466",
   "metadata": {},
   "outputs": [
    {
     "data": {
      "text/plain": [
       "32"
      ]
     },
     "execution_count": 9,
     "metadata": {},
     "output_type": "execute_result"
    }
   ],
   "source": [
    "square(2)*cube(2)"
   ]
  },
  {
   "cell_type": "code",
   "execution_count": 11,
   "id": "c34511f9",
   "metadata": {},
   "outputs": [
    {
     "data": {
      "text/plain": [
       "64"
      ]
     },
     "execution_count": 11,
     "metadata": {},
     "output_type": "execute_result"
    }
   ],
   "source": [
    "square(cube(x))"
   ]
  },
  {
   "cell_type": "code",
   "execution_count": 12,
   "id": "981a706c",
   "metadata": {},
   "outputs": [],
   "source": [
    "def compose(f, g):\n",
    "\n",
    "    def composition(*args, **kwargs):\n",
    "        return f(g(*args, **kwargs))\n",
    "    \n",
    "    return composition"
   ]
  },
  {
   "cell_type": "code",
   "execution_count": 13,
   "id": "29dd2179",
   "metadata": {},
   "outputs": [
    {
     "data": {
      "text/plain": [
       "64"
      ]
     },
     "execution_count": 13,
     "metadata": {},
     "output_type": "execute_result"
    }
   ],
   "source": [
    "square_cube_composition = compose(square, cube)\n",
    "\n",
    "square_cube_composition(2)"
   ]
  },
  {
   "cell_type": "code",
   "execution_count": 14,
   "id": "1d7793cc",
   "metadata": {},
   "outputs": [],
   "source": [
    "def linear(x, a, b):\n",
    "    return a*x + b"
   ]
  },
  {
   "cell_type": "code",
   "execution_count": 15,
   "id": "cc6df0ed",
   "metadata": {},
   "outputs": [],
   "source": [
    "class Linear:\n",
    "\n",
    "    def __init__(self, a, b):\n",
    "        self.a = a\n",
    "        self.b = b\n",
    "\n",
    "    def __call__(self, x):\n",
    "        return self.a*x + self.b"
   ]
  },
  {
   "cell_type": "code",
   "execution_count": 17,
   "id": "a23e872d",
   "metadata": {},
   "outputs": [
    {
     "data": {
      "text/plain": [
       "3.2"
      ]
     },
     "execution_count": 17,
     "metadata": {},
     "output_type": "execute_result"
    }
   ],
   "source": [
    "f = Linear(2, -1)\n",
    "f(2.1)"
   ]
  },
  {
   "cell_type": "code",
   "execution_count": 18,
   "id": "2b705702",
   "metadata": {},
   "outputs": [
    {
     "data": {
      "text/plain": [
       "(2, -1)"
      ]
     },
     "execution_count": 18,
     "metadata": {},
     "output_type": "execute_result"
    }
   ],
   "source": [
    "f.a, f.b"
   ]
  },
  {
   "cell_type": "code",
   "execution_count": 19,
   "id": "b474093a",
   "metadata": {},
   "outputs": [],
   "source": [
    "class Linear:\n",
    "\n",
    "    def __init__(self, a, b):\n",
    "        self.a = a\n",
    "        self.b = b\n",
    "\n",
    "    def __call__(self, x):\n",
    "        return self.a*x + self.b\n",
    "    \n",
    "    def parameters(self):\n",
    "        return {\"a\": self.a, \"b\": self.b}"
   ]
  },
  {
   "cell_type": "code",
   "execution_count": 21,
   "id": "50d41275",
   "metadata": {},
   "outputs": [
    {
     "data": {
      "text/plain": [
       "{'a': 2, 'b': -1}"
      ]
     },
     "execution_count": 21,
     "metadata": {},
     "output_type": "execute_result"
    }
   ],
   "source": [
    "f = Linear(2, -1)\n",
    "f.parameters()"
   ]
  },
  {
   "cell_type": "code",
   "execution_count": 22,
   "id": "fc9d7175",
   "metadata": {},
   "outputs": [
    {
     "data": {
      "text/plain": [
       "<__main__.Linear at 0x248a3923050>"
      ]
     },
     "execution_count": 22,
     "metadata": {},
     "output_type": "execute_result"
    }
   ],
   "source": [
    "f"
   ]
  },
  {
   "cell_type": "code",
   "execution_count": 23,
   "id": "14e4fcc2",
   "metadata": {},
   "outputs": [],
   "source": [
    "class Linear:\n",
    "    def __init__(self, a, b):\n",
    "        self.a = a\n",
    "        self.b = b\n",
    "        \n",
    "    def __call__(self, x):\n",
    "        return self.a*x + self.b\n",
    "    \n",
    "    def __repr__(self):\n",
    "        return f\"Linear(a={self.a}, b={self.b})\"\n",
    "    \n",
    "    def parameters(self):\n",
    "        return {\"a\": self.a, \"b\": self.b}"
   ]
  },
  {
   "cell_type": "code",
   "execution_count": 24,
   "id": "26dc4cbf",
   "metadata": {},
   "outputs": [],
   "source": [
    "f = Linear(2, -1)"
   ]
  },
  {
   "cell_type": "code",
   "execution_count": 25,
   "id": "678f9d0e",
   "metadata": {},
   "outputs": [
    {
     "data": {
      "text/plain": [
       "Linear(a=2, b=-1)"
      ]
     },
     "execution_count": 25,
     "metadata": {},
     "output_type": "execute_result"
    }
   ],
   "source": [
    "f"
   ]
  },
  {
   "cell_type": "code",
   "execution_count": 26,
   "id": "9eb43812",
   "metadata": {},
   "outputs": [],
   "source": [
    "class Function:\n",
    "    def __init__(self):\n",
    "        pass\n",
    "    \n",
    "    def __call__(self, *args, **kwargs):\n",
    "        pass\n",
    "    \n",
    "    def parameters(self):\n",
    "        return dict()"
   ]
  },
  {
   "cell_type": "code",
   "execution_count": 27,
   "id": "40400fc4",
   "metadata": {},
   "outputs": [],
   "source": [
    "import numpy as np\n",
    "\n",
    "class Sigmoid(Function):\n",
    "    \n",
    "    def __call__(self, x):\n",
    "        return 1 / (1 + np.exp(-x))"
   ]
  },
  {
   "cell_type": "code",
   "execution_count": 28,
   "id": "cbda1ef1",
   "metadata": {},
   "outputs": [],
   "source": [
    "sigmoid = Sigmoid()"
   ]
  },
  {
   "cell_type": "code",
   "execution_count": 29,
   "id": "e8c0d2b5",
   "metadata": {},
   "outputs": [
    {
     "data": {
      "text/plain": [
       "np.float64(0.8807970779778823)"
      ]
     },
     "execution_count": 29,
     "metadata": {},
     "output_type": "execute_result"
    }
   ],
   "source": [
    "sigmoid(2)"
   ]
  },
  {
   "cell_type": "code",
   "execution_count": 31,
   "id": "1f368f83",
   "metadata": {},
   "outputs": [
    {
     "data": {
      "text/plain": [
       "{}"
      ]
     },
     "execution_count": 31,
     "metadata": {},
     "output_type": "execute_result"
    }
   ],
   "source": [
    "sigmoid.parameters()"
   ]
  },
  {
   "cell_type": "code",
   "execution_count": 32,
   "id": "3bfb131a",
   "metadata": {},
   "outputs": [],
   "source": [
    "composed = compose(Linear(2, -1), Sigmoid())"
   ]
  },
  {
   "cell_type": "code",
   "execution_count": 33,
   "id": "aea3be90",
   "metadata": {},
   "outputs": [
    {
     "data": {
      "text/plain": [
       "np.float64(0.7615941559557646)"
      ]
     },
     "execution_count": 33,
     "metadata": {},
     "output_type": "execute_result"
    }
   ],
   "source": [
    "composed(2)"
   ]
  },
  {
   "cell_type": "code",
   "execution_count": 34,
   "id": "262dd641",
   "metadata": {},
   "outputs": [
    {
     "data": {
      "text/plain": [
       "False"
      ]
     },
     "execution_count": 34,
     "metadata": {},
     "output_type": "execute_result"
    }
   ],
   "source": [
    "isinstance(composed, Function)"
   ]
  },
  {
   "cell_type": "code",
   "execution_count": 35,
   "id": "3b278a11",
   "metadata": {},
   "outputs": [
    {
     "ename": "AttributeError",
     "evalue": "'function' object has no attribute 'parameters'",
     "output_type": "error",
     "traceback": [
      "\u001b[31m---------------------------------------------------------------------------\u001b[39m",
      "\u001b[31mAttributeError\u001b[39m                            Traceback (most recent call last)",
      "\u001b[36mCell\u001b[39m\u001b[36m \u001b[39m\u001b[32mIn[35]\u001b[39m\u001b[32m, line 1\u001b[39m\n\u001b[32m----> \u001b[39m\u001b[32m1\u001b[39m \u001b[43mcomposed\u001b[49m\u001b[43m.\u001b[49m\u001b[43mparameters\u001b[49m()\n",
      "\u001b[31mAttributeError\u001b[39m: 'function' object has no attribute 'parameters'"
     ]
    }
   ],
   "source": [
    "composed.parameters()"
   ]
  },
  {
   "cell_type": "code",
   "execution_count": 36,
   "id": "97bb68d4",
   "metadata": {},
   "outputs": [],
   "source": [
    "class Composition(Function):\n",
    "    def __init__(self, *functions):\n",
    "        self.functions = functions\n",
    "        \n",
    "    def __call__(self, x):\n",
    "        \n",
    "        for f in reversed(self.functions):\n",
    "            x = f(x)\n",
    "            \n",
    "        return x"
   ]
  },
  {
   "cell_type": "code",
   "execution_count": 37,
   "id": "3f083ec3",
   "metadata": {},
   "outputs": [],
   "source": [
    "composed = Composition(Linear(2, -1), Sigmoid())"
   ]
  },
  {
   "cell_type": "code",
   "execution_count": 38,
   "id": "b2a36827",
   "metadata": {},
   "outputs": [
    {
     "data": {
      "text/plain": [
       "np.float64(0.7615941559557646)"
      ]
     },
     "execution_count": 38,
     "metadata": {},
     "output_type": "execute_result"
    }
   ],
   "source": [
    "composed(2)"
   ]
  },
  {
   "cell_type": "code",
   "execution_count": 39,
   "id": "7f344da9",
   "metadata": {},
   "outputs": [
    {
     "data": {
      "text/plain": [
       "{}"
      ]
     },
     "execution_count": 39,
     "metadata": {},
     "output_type": "execute_result"
    }
   ],
   "source": [
    "composed.parameters()"
   ]
  },
  {
   "cell_type": "code",
   "execution_count": 40,
   "id": "7bd829f9",
   "metadata": {},
   "outputs": [
    {
     "data": {
      "text/plain": [
       "True"
      ]
     },
     "execution_count": 40,
     "metadata": {},
     "output_type": "execute_result"
    }
   ],
   "source": [
    "isinstance(composed, Function)"
   ]
  },
  {
   "cell_type": "code",
   "execution_count": 41,
   "id": "f0ec89ef",
   "metadata": {},
   "outputs": [],
   "source": [
    "def add(f, g):\n",
    "    \n",
    "    def sum(*args, **kwargs):\n",
    "        return f(*args, **kwargs) + g(*args, **kwargs)\n",
    "    \n",
    "    return sum\n"
   ]
  },
  {
   "cell_type": "code",
   "execution_count": null,
   "id": "f2a3d484",
   "metadata": {},
   "outputs": [],
   "source": []
  }
 ],
 "metadata": {
  "kernelspec": {
   "display_name": ".venv",
   "language": "python",
   "name": "python3"
  },
  "language_info": {
   "codemirror_mode": {
    "name": "ipython",
    "version": 3
   },
   "file_extension": ".py",
   "mimetype": "text/x-python",
   "name": "python",
   "nbconvert_exporter": "python",
   "pygments_lexer": "ipython3",
   "version": "3.12.1"
  }
 },
 "nbformat": 4,
 "nbformat_minor": 5
}
